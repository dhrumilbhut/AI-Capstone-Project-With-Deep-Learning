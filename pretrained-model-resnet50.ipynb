{
 "cells": [
  {
   "cell_type": "markdown",
   "metadata": {},
   "source": [
    "## AI Capstone Project Resnet50"
   ]
  },
  {
   "cell_type": "code",
   "execution_count": 1,
   "metadata": {
    "tags": []
   },
   "outputs": [],
   "source": [
    "import skillsnetwork "
   ]
  },
  {
   "cell_type": "code",
   "execution_count": 2,
   "metadata": {
    "tags": []
   },
   "outputs": [
    {
     "name": "stderr",
     "output_type": "stream",
     "text": [
      "Using TensorFlow backend.\n",
      "/home/jupyterlab/conda/envs/python/lib/python3.7/site-packages/tensorflow/python/framework/dtypes.py:516: FutureWarning: Passing (type, 1) or '1type' as a synonym of type is deprecated; in a future version of numpy, it will be understood as (type, (1,)) / '(1,)type'.\n",
      "  _np_qint8 = np.dtype([(\"qint8\", np.int8, 1)])\n",
      "/home/jupyterlab/conda/envs/python/lib/python3.7/site-packages/tensorflow/python/framework/dtypes.py:517: FutureWarning: Passing (type, 1) or '1type' as a synonym of type is deprecated; in a future version of numpy, it will be understood as (type, (1,)) / '(1,)type'.\n",
      "  _np_quint8 = np.dtype([(\"quint8\", np.uint8, 1)])\n",
      "/home/jupyterlab/conda/envs/python/lib/python3.7/site-packages/tensorflow/python/framework/dtypes.py:518: FutureWarning: Passing (type, 1) or '1type' as a synonym of type is deprecated; in a future version of numpy, it will be understood as (type, (1,)) / '(1,)type'.\n",
      "  _np_qint16 = np.dtype([(\"qint16\", np.int16, 1)])\n",
      "/home/jupyterlab/conda/envs/python/lib/python3.7/site-packages/tensorflow/python/framework/dtypes.py:519: FutureWarning: Passing (type, 1) or '1type' as a synonym of type is deprecated; in a future version of numpy, it will be understood as (type, (1,)) / '(1,)type'.\n",
      "  _np_quint16 = np.dtype([(\"quint16\", np.uint16, 1)])\n",
      "/home/jupyterlab/conda/envs/python/lib/python3.7/site-packages/tensorflow/python/framework/dtypes.py:520: FutureWarning: Passing (type, 1) or '1type' as a synonym of type is deprecated; in a future version of numpy, it will be understood as (type, (1,)) / '(1,)type'.\n",
      "  _np_qint32 = np.dtype([(\"qint32\", np.int32, 1)])\n",
      "/home/jupyterlab/conda/envs/python/lib/python3.7/site-packages/tensorflow/python/framework/dtypes.py:525: FutureWarning: Passing (type, 1) or '1type' as a synonym of type is deprecated; in a future version of numpy, it will be understood as (type, (1,)) / '(1,)type'.\n",
      "  np_resource = np.dtype([(\"resource\", np.ubyte, 1)])\n",
      "/home/jupyterlab/conda/envs/python/lib/python3.7/site-packages/tensorboard/compat/tensorflow_stub/dtypes.py:541: FutureWarning: Passing (type, 1) or '1type' as a synonym of type is deprecated; in a future version of numpy, it will be understood as (type, (1,)) / '(1,)type'.\n",
      "  _np_qint8 = np.dtype([(\"qint8\", np.int8, 1)])\n",
      "/home/jupyterlab/conda/envs/python/lib/python3.7/site-packages/tensorboard/compat/tensorflow_stub/dtypes.py:542: FutureWarning: Passing (type, 1) or '1type' as a synonym of type is deprecated; in a future version of numpy, it will be understood as (type, (1,)) / '(1,)type'.\n",
      "  _np_quint8 = np.dtype([(\"quint8\", np.uint8, 1)])\n",
      "/home/jupyterlab/conda/envs/python/lib/python3.7/site-packages/tensorboard/compat/tensorflow_stub/dtypes.py:543: FutureWarning: Passing (type, 1) or '1type' as a synonym of type is deprecated; in a future version of numpy, it will be understood as (type, (1,)) / '(1,)type'.\n",
      "  _np_qint16 = np.dtype([(\"qint16\", np.int16, 1)])\n",
      "/home/jupyterlab/conda/envs/python/lib/python3.7/site-packages/tensorboard/compat/tensorflow_stub/dtypes.py:544: FutureWarning: Passing (type, 1) or '1type' as a synonym of type is deprecated; in a future version of numpy, it will be understood as (type, (1,)) / '(1,)type'.\n",
      "  _np_quint16 = np.dtype([(\"quint16\", np.uint16, 1)])\n",
      "/home/jupyterlab/conda/envs/python/lib/python3.7/site-packages/tensorboard/compat/tensorflow_stub/dtypes.py:545: FutureWarning: Passing (type, 1) or '1type' as a synonym of type is deprecated; in a future version of numpy, it will be understood as (type, (1,)) / '(1,)type'.\n",
      "  _np_qint32 = np.dtype([(\"qint32\", np.int32, 1)])\n",
      "/home/jupyterlab/conda/envs/python/lib/python3.7/site-packages/tensorboard/compat/tensorflow_stub/dtypes.py:550: FutureWarning: Passing (type, 1) or '1type' as a synonym of type is deprecated; in a future version of numpy, it will be understood as (type, (1,)) / '(1,)type'.\n",
      "  np_resource = np.dtype([(\"resource\", np.ubyte, 1)])\n"
     ]
    }
   ],
   "source": [
    "from keras.preprocessing.image import ImageDataGenerator"
   ]
  },
  {
   "cell_type": "code",
   "execution_count": 3,
   "metadata": {
    "tags": []
   },
   "outputs": [],
   "source": [
    "import keras\n",
    "from keras.models import Sequential\n",
    "from keras.layers import Dense"
   ]
  },
  {
   "cell_type": "code",
   "execution_count": 4,
   "metadata": {
    "tags": []
   },
   "outputs": [],
   "source": [
    "from keras.applications import ResNet50\n",
    "from keras.applications.resnet50 import preprocess_input"
   ]
  },
  {
   "cell_type": "markdown",
   "metadata": {},
   "source": [
    "<a id='item32'></a>\n"
   ]
  },
  {
   "cell_type": "code",
   "execution_count": 5,
   "metadata": {
    "tags": []
   },
   "outputs": [
    {
     "data": {
      "application/vnd.jupyter.widget-view+json": {
       "model_id": "13b17ad75b084428be61e8972a0a3d1f",
       "version_major": 2,
       "version_minor": 0
      },
      "text/plain": [
       "Downloading concrete_data_week3.zip:   0%|          | 0/97863179 [00:00<?, ?it/s]"
      ]
     },
     "metadata": {},
     "output_type": "display_data"
    },
    {
     "data": {
      "application/vnd.jupyter.widget-view+json": {
       "model_id": "a43650f79aee4da9aee90a6d0f91def7",
       "version_major": 2,
       "version_minor": 0
      },
      "text/plain": [
       "  0%|          | 0/30036 [00:00<?, ?it/s]"
      ]
     },
     "metadata": {},
     "output_type": "display_data"
    },
    {
     "name": "stdout",
     "output_type": "stream",
     "text": [
      "Saved to '.'\n"
     ]
    }
   ],
   "source": [
    "## get the data\n",
    "await skillsnetwork.prepare(\"https://cf-courses-data.s3.us.cloud-object-storage.appdomain.cloud/IBMDeveloperSkillsNetwork-DL0321EN-SkillsNetwork/concrete_data_week3.zip\", overwrite=True)"
   ]
  },
  {
   "cell_type": "code",
   "execution_count": 6,
   "metadata": {
    "tags": []
   },
   "outputs": [],
   "source": [
    "num_classes = 2\n",
    "\n",
    "image_resize = 224\n",
    "\n",
    "batch_size_training = 100\n",
    "batch_size_validation = 100"
   ]
  },
  {
   "cell_type": "markdown",
   "metadata": {},
   "source": [
    "<a id='item34'></a>\n"
   ]
  },
  {
   "cell_type": "code",
   "execution_count": 7,
   "metadata": {
    "tags": []
   },
   "outputs": [],
   "source": [
    "data_generator = ImageDataGenerator(\n",
    "    preprocessing_function=preprocess_input,\n",
    ")"
   ]
  },
  {
   "cell_type": "code",
   "execution_count": 8,
   "metadata": {
    "tags": []
   },
   "outputs": [
    {
     "name": "stdout",
     "output_type": "stream",
     "text": [
      "Found 10001 images belonging to 2 classes.\n"
     ]
    }
   ],
   "source": [
    "train_generator = data_generator.flow_from_directory(\n",
    "    'concrete_data_week3/train',\n",
    "    target_size=(image_resize, image_resize),\n",
    "    batch_size=batch_size_training,\n",
    "    class_mode='categorical')"
   ]
  },
  {
   "cell_type": "code",
   "execution_count": 9,
   "metadata": {
    "tags": []
   },
   "outputs": [
    {
     "name": "stdout",
     "output_type": "stream",
     "text": [
      "Found 5001 images belonging to 2 classes.\n"
     ]
    }
   ],
   "source": [
    "## Type your answer here\n",
    "\n",
    "validation_generator = data_generator.flow_from_directory(\n",
    "    'concrete_data_week3/valid',\n",
    "    target_size=(image_resize, image_resize),\n",
    "    batch_size=batch_size_validation,\n",
    "    class_mode='categorical')\n",
    "\n",
    "\n",
    "\n",
    "\n"
   ]
  },
  {
   "cell_type": "code",
   "execution_count": 10,
   "metadata": {
    "tags": []
   },
   "outputs": [
    {
     "name": "stdout",
     "output_type": "stream",
     "text": [
      "WARNING:tensorflow:From /home/jupyterlab/conda/envs/python/lib/python3.7/site-packages/keras/backend/tensorflow_backend.py:68: The name tf.get_default_graph is deprecated. Please use tf.compat.v1.get_default_graph instead.\n",
      "\n"
     ]
    }
   ],
   "source": [
    "model = Sequential()"
   ]
  },
  {
   "cell_type": "code",
   "execution_count": 11,
   "metadata": {
    "tags": []
   },
   "outputs": [
    {
     "name": "stdout",
     "output_type": "stream",
     "text": [
      "WARNING:tensorflow:From /home/jupyterlab/conda/envs/python/lib/python3.7/site-packages/keras/backend/tensorflow_backend.py:508: The name tf.placeholder is deprecated. Please use tf.compat.v1.placeholder instead.\n",
      "\n",
      "WARNING:tensorflow:From /home/jupyterlab/conda/envs/python/lib/python3.7/site-packages/keras/backend/tensorflow_backend.py:3837: The name tf.random_uniform is deprecated. Please use tf.random.uniform instead.\n",
      "\n",
      "WARNING:tensorflow:From /home/jupyterlab/conda/envs/python/lib/python3.7/site-packages/keras/backend/tensorflow_backend.py:168: The name tf.get_default_session is deprecated. Please use tf.compat.v1.get_default_session instead.\n",
      "\n",
      "WARNING:tensorflow:From /home/jupyterlab/conda/envs/python/lib/python3.7/site-packages/keras/backend/tensorflow_backend.py:175: The name tf.ConfigProto is deprecated. Please use tf.compat.v1.ConfigProto instead.\n",
      "\n",
      "WARNING:tensorflow:From /home/jupyterlab/conda/envs/python/lib/python3.7/site-packages/keras/backend/tensorflow_backend.py:1801: The name tf.nn.fused_batch_norm is deprecated. Please use tf.compat.v1.nn.fused_batch_norm instead.\n",
      "\n",
      "WARNING:tensorflow:From /home/jupyterlab/conda/envs/python/lib/python3.7/site-packages/keras/backend/tensorflow_backend.py:3661: The name tf.nn.max_pool is deprecated. Please use tf.nn.max_pool2d instead.\n",
      "\n"
     ]
    },
    {
     "name": "stderr",
     "output_type": "stream",
     "text": [
      "2025-02-09 11:14:29.862877: I tensorflow/core/platform/cpu_feature_guard.cc:142] Your CPU supports instructions that this TensorFlow binary was not compiled to use: SSE4.1 SSE4.2 AVX AVX2 AVX512F FMA\n",
      "2025-02-09 11:14:29.867714: I tensorflow/core/platform/profile_utils/cpu_utils.cc:94] CPU Frequency: 2394300000 Hz\n",
      "2025-02-09 11:14:29.868323: I tensorflow/compiler/xla/service/service.cc:168] XLA service 0x55b3869eea30 executing computations on platform Host. Devices:\n",
      "2025-02-09 11:14:29.868360: I tensorflow/compiler/xla/service/service.cc:175]   StreamExecutor device (0): <undefined>, <undefined>\n",
      "2025-02-09 11:14:29.900947: W tensorflow/compiler/jit/mark_for_compilation_pass.cc:1412] (One-time warning): Not using XLA:CPU for cluster because envvar TF_XLA_FLAGS=--tf_xla_cpu_global_jit was not set.  If you want XLA:CPU, either set that envvar, or use experimental_jit_scope to enable XLA:CPU.  To confirm that XLA is active, pass --vmodule=xla_compilation_cache=1 (as a proper command-line flag, not via TF_XLA_FLAGS) or set the envvar XLA_FLAGS=--xla_hlo_profile.\n"
     ]
    },
    {
     "name": "stdout",
     "output_type": "stream",
     "text": [
      "WARNING:tensorflow:From /home/jupyterlab/conda/envs/python/lib/python3.7/site-packages/keras/backend/tensorflow_backend.py:3665: The name tf.nn.avg_pool is deprecated. Please use tf.nn.avg_pool2d instead.\n",
      "\n",
      "Downloading data from https://github.com/fchollet/deep-learning-models/releases/download/v0.2/resnet50_weights_tf_dim_ordering_tf_kernels_notop.h5\n",
      "94658560/94653016 [==============================] - 0s 0us/step\n"
     ]
    }
   ],
   "source": [
    "model.add(ResNet50(\n",
    "    include_top=False,\n",
    "    pooling='avg',\n",
    "    weights='imagenet',\n",
    "    ))"
   ]
  },
  {
   "cell_type": "code",
   "execution_count": 12,
   "metadata": {
    "tags": []
   },
   "outputs": [],
   "source": [
    "model.add(Dense(num_classes, activation='softmax'))"
   ]
  },
  {
   "cell_type": "code",
   "execution_count": 13,
   "metadata": {
    "tags": []
   },
   "outputs": [
    {
     "data": {
      "text/plain": [
       "[<keras.engine.training.Model at 0x7f65690a2990>,\n",
       " <keras.layers.core.Dense at 0x7f6556b578d0>]"
      ]
     },
     "execution_count": 13,
     "metadata": {},
     "output_type": "execute_result"
    }
   ],
   "source": [
    "model.layers"
   ]
  },
  {
   "cell_type": "code",
   "execution_count": 14,
   "metadata": {
    "tags": []
   },
   "outputs": [
    {
     "data": {
      "text/plain": [
       "[<keras.engine.topology.InputLayer at 0x7f65e245bdd0>,\n",
       " <keras.layers.convolutional.ZeroPadding2D at 0x7f65e30b01d0>,\n",
       " <keras.layers.convolutional.Conv2D at 0x7f65da707f50>,\n",
       " <keras.layers.normalization.BatchNormalization at 0x7f65da707dd0>,\n",
       " <keras.layers.core.Activation at 0x7f65dc7729d0>,\n",
       " <keras.layers.pooling.MaxPooling2D at 0x7f65dbd66f10>,\n",
       " <keras.layers.convolutional.Conv2D at 0x7f65dbd22c90>,\n",
       " <keras.layers.normalization.BatchNormalization at 0x7f65dbcb2390>,\n",
       " <keras.layers.core.Activation at 0x7f65dc706c50>,\n",
       " <keras.layers.convolutional.Conv2D at 0x7f65dbc45910>,\n",
       " <keras.layers.normalization.BatchNormalization at 0x7f65dbc2ff10>,\n",
       " <keras.layers.core.Activation at 0x7f65dbbc1ed0>,\n",
       " <keras.layers.convolutional.Conv2D at 0x7f65d86c3790>,\n",
       " <keras.layers.convolutional.Conv2D at 0x7f65d85c2790>,\n",
       " <keras.layers.normalization.BatchNormalization at 0x7f65d85e3690>,\n",
       " <keras.layers.normalization.BatchNormalization at 0x7f65d857b250>,\n",
       " <keras.layers.merge.Add at 0x7f65d857bf90>,\n",
       " <keras.layers.core.Activation at 0x7f65d84c8c90>,\n",
       " <keras.layers.convolutional.Conv2D at 0x7f65d84797d0>,\n",
       " <keras.layers.normalization.BatchNormalization at 0x7f65d8443f90>,\n",
       " <keras.layers.core.Activation at 0x7f65d8443fd0>,\n",
       " <keras.layers.convolutional.Conv2D at 0x7f65d8380c90>,\n",
       " <keras.layers.normalization.BatchNormalization at 0x7f65d83553d0>,\n",
       " <keras.layers.core.Activation at 0x7f65d8355950>,\n",
       " <keras.layers.convolutional.Conv2D at 0x7f65d8270690>,\n",
       " <keras.layers.normalization.BatchNormalization at 0x7f65d81e9f10>,\n",
       " <keras.layers.merge.Add at 0x7f65d8206210>,\n",
       " <keras.layers.core.Activation at 0x7f65d818abd0>,\n",
       " <keras.layers.convolutional.Conv2D at 0x7f65d813a990>,\n",
       " <keras.layers.normalization.BatchNormalization at 0x7f65d8104a50>,\n",
       " <keras.layers.core.Activation at 0x7f65d80caf50>,\n",
       " <keras.layers.convolutional.Conv2D at 0x7f65d8086fd0>,\n",
       " <keras.layers.normalization.BatchNormalization at 0x7f65c07e3210>,\n",
       " <keras.layers.core.Activation at 0x7f65c07e32d0>,\n",
       " <keras.layers.convolutional.Conv2D at 0x7f65c0700850>,\n",
       " <keras.layers.normalization.BatchNormalization at 0x7f65c06e5b10>,\n",
       " <keras.layers.merge.Add at 0x7f65c06e5f90>,\n",
       " <keras.layers.core.Activation at 0x7f65c061ad50>,\n",
       " <keras.layers.convolutional.Conv2D at 0x7f65c05a3e50>,\n",
       " <keras.layers.normalization.BatchNormalization at 0x7f65c0591a90>,\n",
       " <keras.layers.core.Activation at 0x7f65c057c1d0>,\n",
       " <keras.layers.convolutional.Conv2D at 0x7f65c0511e10>,\n",
       " <keras.layers.normalization.BatchNormalization at 0x7f65c048d190>,\n",
       " <keras.layers.core.Activation at 0x7f65c048d250>,\n",
       " <keras.layers.convolutional.Conv2D at 0x7f65c0403510>,\n",
       " <keras.layers.convolutional.Conv2D at 0x7f65c031bed0>,\n",
       " <keras.layers.normalization.BatchNormalization at 0x7f65c034aed0>,\n",
       " <keras.layers.normalization.BatchNormalization at 0x7f65c02b9690>,\n",
       " <keras.layers.merge.Add at 0x7f65c02014d0>,\n",
       " <keras.layers.core.Activation at 0x7f65c0216ed0>,\n",
       " <keras.layers.convolutional.Conv2D at 0x7f65c01b0090>,\n",
       " <keras.layers.normalization.BatchNormalization at 0x7f65c0180a90>,\n",
       " <keras.layers.core.Activation at 0x7f65c0193d50>,\n",
       " <keras.layers.convolutional.Conv2D at 0x7f65c0134d50>,\n",
       " <keras.layers.normalization.BatchNormalization at 0x7f65c0041250>,\n",
       " <keras.layers.core.Activation at 0x7f65c0099890>,\n",
       " <keras.layers.convolutional.Conv2D at 0x7f65a07f1b90>,\n",
       " <keras.layers.normalization.BatchNormalization at 0x7f65a0768110>,\n",
       " <keras.layers.merge.Add at 0x7f65a07681d0>,\n",
       " <keras.layers.core.Activation at 0x7f65a0689750>,\n",
       " <keras.layers.convolutional.Conv2D at 0x7f65a06aac50>,\n",
       " <keras.layers.normalization.BatchNormalization at 0x7f65a066c590>,\n",
       " <keras.layers.core.Activation at 0x7f65a05fff90>,\n",
       " <keras.layers.convolutional.Conv2D at 0x7f65a05a1e50>,\n",
       " <keras.layers.normalization.BatchNormalization at 0x7f65a052d1d0>,\n",
       " <keras.layers.core.Activation at 0x7f65a0505610>,\n",
       " <keras.layers.convolutional.Conv2D at 0x7f65a049c910>,\n",
       " <keras.layers.normalization.BatchNormalization at 0x7f65a03e4b10>,\n",
       " <keras.layers.merge.Add at 0x7f65a0415190>,\n",
       " <keras.layers.core.Activation at 0x7f65a03b5410>,\n",
       " <keras.layers.convolutional.Conv2D at 0x7f65a02c6110>,\n",
       " <keras.layers.normalization.BatchNormalization at 0x7f65a032d590>,\n",
       " <keras.layers.core.Activation at 0x7f65a032de50>,\n",
       " <keras.layers.convolutional.Conv2D at 0x7f65a024fd50>,\n",
       " <keras.layers.normalization.BatchNormalization at 0x7f65a01e8450>,\n",
       " <keras.layers.core.Activation at 0x7f65a0231590>,\n",
       " <keras.layers.convolutional.Conv2D at 0x7f65a01b16d0>,\n",
       " <keras.layers.normalization.BatchNormalization at 0x7f65a008fa50>,\n",
       " <keras.layers.merge.Add at 0x7f65a00c60d0>,\n",
       " <keras.layers.core.Activation at 0x7f65a005f0d0>,\n",
       " <keras.layers.convolutional.Conv2D at 0x7f65a005f8d0>,\n",
       " <keras.layers.normalization.BatchNormalization at 0x7f6598781ad0>,\n",
       " <keras.layers.core.Activation at 0x7f65986ba190>,\n",
       " <keras.layers.convolutional.Conv2D at 0x7f65986bafd0>,\n",
       " <keras.layers.normalization.BatchNormalization at 0x7f65986563d0>,\n",
       " <keras.layers.core.Activation at 0x7f659869a150>,\n",
       " <keras.layers.convolutional.Conv2D at 0x7f6598633e10>,\n",
       " <keras.layers.convolutional.Conv2D at 0x7f65984cd590>,\n",
       " <keras.layers.normalization.BatchNormalization at 0x7f65985a0e50>,\n",
       " <keras.layers.normalization.BatchNormalization at 0x7f65984ee8d0>,\n",
       " <keras.layers.merge.Add at 0x7f6598481b50>,\n",
       " <keras.layers.core.Activation at 0x7f65983d3c90>,\n",
       " <keras.layers.convolutional.Conv2D at 0x7f6598374590>,\n",
       " <keras.layers.normalization.BatchNormalization at 0x7f659834dfd0>,\n",
       " <keras.layers.core.Activation at 0x7f659834d110>,\n",
       " <keras.layers.convolutional.Conv2D at 0x7f659827d290>,\n",
       " <keras.layers.normalization.BatchNormalization at 0x7f6598262e50>,\n",
       " <keras.layers.core.Activation at 0x7f6598262b10>,\n",
       " <keras.layers.convolutional.Conv2D at 0x7f659817fc10>,\n",
       " <keras.layers.normalization.BatchNormalization at 0x7f6598176310>,\n",
       " <keras.layers.merge.Add at 0x7f6598176450>,\n",
       " <keras.layers.core.Activation at 0x7f6598092950>,\n",
       " <keras.layers.convolutional.Conv2D at 0x7f6598092c50>,\n",
       " <keras.layers.normalization.BatchNormalization at 0x7f656a7d1ed0>,\n",
       " <keras.layers.core.Activation at 0x7f656a7d1b90>,\n",
       " <keras.layers.convolutional.Conv2D at 0x7f656a76c910>,\n",
       " <keras.layers.normalization.BatchNormalization at 0x7f656a6b4850>,\n",
       " <keras.layers.core.Activation at 0x7f656a6e7650>,\n",
       " <keras.layers.convolutional.Conv2D at 0x7f656a606590>,\n",
       " <keras.layers.normalization.BatchNormalization at 0x7f656a5e5bd0>,\n",
       " <keras.layers.merge.Add at 0x7f656a5e5510>,\n",
       " <keras.layers.core.Activation at 0x7f656a508a10>,\n",
       " <keras.layers.convolutional.Conv2D at 0x7f656a76cd10>,\n",
       " <keras.layers.normalization.BatchNormalization at 0x7f656a47f6d0>,\n",
       " <keras.layers.core.Activation at 0x7f656a47fc90>,\n",
       " <keras.layers.convolutional.Conv2D at 0x7f656a434d50>,\n",
       " <keras.layers.normalization.BatchNormalization at 0x7f656a3401d0>,\n",
       " <keras.layers.core.Activation at 0x7f656a399650>,\n",
       " <keras.layers.convolutional.Conv2D at 0x7f656a32fb10>,\n",
       " <keras.layers.normalization.BatchNormalization at 0x7f656a278b50>,\n",
       " <keras.layers.merge.Add at 0x7f656a2a98d0>,\n",
       " <keras.layers.core.Activation at 0x7f656a1c7250>,\n",
       " <keras.layers.convolutional.Conv2D at 0x7f656a4345d0>,\n",
       " <keras.layers.normalization.BatchNormalization at 0x7f656a1ada50>,\n",
       " <keras.layers.core.Activation at 0x7f656a13ff50>,\n",
       " <keras.layers.convolutional.Conv2D at 0x7f656a0daad0>,\n",
       " <keras.layers.normalization.BatchNormalization at 0x7f656a044e50>,\n",
       " <keras.layers.core.Activation at 0x7f656a044d10>,\n",
       " <keras.layers.convolutional.Conv2D at 0x7f6569ff5d50>,\n",
       " <keras.layers.normalization.BatchNormalization at 0x7f6569f5de50>,\n",
       " <keras.layers.merge.Add at 0x7f6569f5df10>,\n",
       " <keras.layers.core.Activation at 0x7f6569ef3cd0>,\n",
       " <keras.layers.convolutional.Conv2D at 0x7f6569e96f90>,\n",
       " <keras.layers.normalization.BatchNormalization at 0x7f6569e03ed0>,\n",
       " <keras.layers.core.Activation at 0x7f6569ff5cd0>,\n",
       " <keras.layers.convolutional.Conv2D at 0x7f6569da3b50>,\n",
       " <keras.layers.normalization.BatchNormalization at 0x7f6569d03450>,\n",
       " <keras.layers.core.Activation at 0x7f6569d03fd0>,\n",
       " <keras.layers.convolutional.Conv2D at 0x7f6569ca0210>,\n",
       " <keras.layers.normalization.BatchNormalization at 0x7f6569c09ed0>,\n",
       " <keras.layers.merge.Add at 0x7f6569c09d50>,\n",
       " <keras.layers.core.Activation at 0x7f6569bb8d50>,\n",
       " <keras.layers.convolutional.Conv2D at 0x7f6569b57950>,\n",
       " <keras.layers.normalization.BatchNormalization at 0x7f6569b1ff90>,\n",
       " <keras.layers.core.Activation at 0x7f6569b1f950>,\n",
       " <keras.layers.convolutional.Conv2D at 0x7f6569a506d0>,\n",
       " <keras.layers.normalization.BatchNormalization at 0x7f6569a32f50>,\n",
       " <keras.layers.core.Activation at 0x7f65699504d0>,\n",
       " <keras.layers.convolutional.Conv2D at 0x7f6569966f50>,\n",
       " <keras.layers.convolutional.Conv2D at 0x7f6569864a90>,\n",
       " <keras.layers.normalization.BatchNormalization at 0x7f65698c75d0>,\n",
       " <keras.layers.normalization.BatchNormalization at 0x7f65698190d0>,\n",
       " <keras.layers.merge.Add at 0x7f6569764550>,\n",
       " <keras.layers.core.Activation at 0x7f6569721cd0>,\n",
       " <keras.layers.convolutional.Conv2D at 0x7f6569778d10>,\n",
       " <keras.layers.normalization.BatchNormalization at 0x7f65696f7f90>,\n",
       " <keras.layers.core.Activation at 0x7f65696f7d50>,\n",
       " <keras.layers.convolutional.Conv2D at 0x7f6569614050>,\n",
       " <keras.layers.normalization.BatchNormalization at 0x7f656957edd0>,\n",
       " <keras.layers.core.Activation at 0x7f656957efd0>,\n",
       " <keras.layers.convolutional.Conv2D at 0x7f656952c190>,\n",
       " <keras.layers.normalization.BatchNormalization at 0x7f656948ea50>,\n",
       " <keras.layers.merge.Add at 0x7f656948ead0>,\n",
       " <keras.layers.core.Activation at 0x7f656942cc10>,\n",
       " <keras.layers.convolutional.Conv2D at 0x7f65693e3210>,\n",
       " <keras.layers.normalization.BatchNormalization at 0x7f65693a6310>,\n",
       " <keras.layers.core.Activation at 0x7f65693a6410>,\n",
       " <keras.layers.convolutional.Conv2D at 0x7f65692def90>,\n",
       " <keras.layers.normalization.BatchNormalization at 0x7f6569240650>,\n",
       " <keras.layers.core.Activation at 0x7f65692406d0>,\n",
       " <keras.layers.convolutional.Conv2D at 0x7f65691d57d0>,\n",
       " <keras.layers.normalization.BatchNormalization at 0x7f6569142a10>,\n",
       " <keras.layers.merge.Add at 0x7f6569142e10>,\n",
       " <keras.layers.core.Activation at 0x7f65690ee1d0>,\n",
       " <keras.layers.pooling.AveragePooling2D at 0x7f656942c890>,\n",
       " <keras.layers.pooling.GlobalAveragePooling2D at 0x7f65dbd0fc90>]"
      ]
     },
     "execution_count": 14,
     "metadata": {},
     "output_type": "execute_result"
    }
   ],
   "source": [
    "model.layers[0].layers"
   ]
  },
  {
   "cell_type": "code",
   "execution_count": 15,
   "metadata": {
    "tags": []
   },
   "outputs": [],
   "source": [
    "model.layers[0].trainable = False"
   ]
  },
  {
   "cell_type": "code",
   "execution_count": 16,
   "metadata": {
    "tags": []
   },
   "outputs": [
    {
     "name": "stdout",
     "output_type": "stream",
     "text": [
      "_________________________________________________________________\n",
      "Layer (type)                 Output Shape              Param #   \n",
      "=================================================================\n",
      "resnet50 (Model)             (None, 2048)              23587712  \n",
      "_________________________________________________________________\n",
      "dense_1 (Dense)              (None, 2)                 4098      \n",
      "=================================================================\n",
      "Total params: 23,591,810\n",
      "Trainable params: 4,098\n",
      "Non-trainable params: 23,587,712\n",
      "_________________________________________________________________\n"
     ]
    }
   ],
   "source": [
    "model.summary()"
   ]
  },
  {
   "cell_type": "code",
   "execution_count": 17,
   "metadata": {
    "tags": []
   },
   "outputs": [
    {
     "name": "stdout",
     "output_type": "stream",
     "text": [
      "WARNING:tensorflow:From /home/jupyterlab/conda/envs/python/lib/python3.7/site-packages/keras/optimizers.py:757: The name tf.train.Optimizer is deprecated. Please use tf.compat.v1.train.Optimizer instead.\n",
      "\n"
     ]
    }
   ],
   "source": [
    "model.compile(optimizer='adam', loss='categorical_crossentropy', metrics=['accuracy'])"
   ]
  },
  {
   "cell_type": "code",
   "execution_count": 18,
   "metadata": {
    "tags": []
   },
   "outputs": [],
   "source": [
    "steps_per_epoch_training = len(train_generator)\n",
    "steps_per_epoch_validation = len(validation_generator)\n",
    "num_epochs = 2"
   ]
  },
  {
   "cell_type": "code",
   "execution_count": null,
   "metadata": {
    "tags": []
   },
   "outputs": [
    {
     "name": "stdout",
     "output_type": "stream",
     "text": [
      "WARNING:tensorflow:From /home/jupyterlab/conda/envs/python/lib/python3.7/site-packages/tensorflow/python/ops/math_grad.py:1250: add_dispatch_support.<locals>.wrapper (from tensorflow.python.ops.array_ops) is deprecated and will be removed in a future version.\n",
      "Instructions for updating:\n",
      "Use tf.where in 2.0, which has the same broadcast rule as np.where\n",
      "Epoch 1/2\n",
      "100/101 [============================>.] - ETA: 1:00 - loss: 0.0900 - acc: 0.9704"
     ]
    }
   ],
   "source": [
    "fit_history = model.fit_generator(\n",
    "    train_generator,\n",
    "    steps_per_epoch=steps_per_epoch_training,\n",
    "    epochs=num_epochs,\n",
    "    validation_data=validation_generator,\n",
    "    validation_steps=steps_per_epoch_validation,\n",
    "    verbose=1,\n",
    ")"
   ]
  },
  {
   "cell_type": "code",
   "execution_count": null,
   "metadata": {},
   "outputs": [],
   "source": [
    "model.save('classifier_resnet_model.h5')"
   ]
  }
 ],
 "metadata": {
  "kernelspec": {
   "display_name": "Python",
   "language": "python",
   "name": "conda-env-python-py"
  },
  "language_info": {
   "codemirror_mode": {
    "name": "ipython",
    "version": 3
   },
   "file_extension": ".py",
   "mimetype": "text/x-python",
   "name": "python",
   "nbconvert_exporter": "python",
   "pygments_lexer": "ipython3",
   "version": "3.7.12"
  },
  "prev_pub_hash": "cf2970a1d2c549fe86023eaa076d0ce4936c4275baf2cccfdad8fe6ce3a8a6c2"
 },
 "nbformat": 4,
 "nbformat_minor": 4
}
